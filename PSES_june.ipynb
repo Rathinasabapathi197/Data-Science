{
  "nbformat": 4,
  "nbformat_minor": 0,
  "metadata": {
    "colab": {
      "provenance": [],
      "toc_visible": true,
      "include_colab_link": true
    },
    "kernelspec": {
      "name": "python3",
      "display_name": "Python 3"
    },
    "language_info": {
      "name": "python"
    }
  },
  "cells": [
    {
      "cell_type": "markdown",
      "metadata": {
        "id": "view-in-github",
        "colab_type": "text"
      },
      "source": [
        "<a href=\"https://colab.research.google.com/github/Rathinasabapathi197/Data-Science/blob/main/PSES_june.ipynb\" target=\"_parent\"><img src=\"https://colab.research.google.com/assets/colab-badge.svg\" alt=\"Open In Colab\"/></a>"
      ]
    },
    {
      "cell_type": "code",
      "execution_count": null,
      "metadata": {
        "colab": {
          "base_uri": "https://localhost:8080/",
          "height": 36
        },
        "id": "mV8oko5NoXZA",
        "outputId": "add6cd15-1b96-4908-db43-3dfbd331cd28"
      },
      "outputs": [
        {
          "output_type": "execute_result",
          "data": {
            "text/plain": [
              "'\\nAgenda :\\nintroduction \\nprinting pattern in python \\ndata types \\nlooping \\nconditional operator \\n'"
            ],
            "application/vnd.google.colaboratory.intrinsic+json": {
              "type": "string"
            }
          },
          "metadata": {},
          "execution_count": 2
        }
      ],
      "source": [
        "'''\n",
        "Agenda :\n",
        "introduction\n",
        "printing pattern in python\n",
        "data types\n",
        "looping\n",
        "conditional operator\n",
        "'''"
      ]
    },
    {
      "cell_type": "code",
      "source": [
        "Introduction\n",
        "Python\n",
        "scriptive type language\n",
        "its easy to implement\n",
        "father of python - Guido von Rossum\n",
        "scripts"
      ],
      "metadata": {
        "id": "yiguUMCwp0NY"
      },
      "execution_count": null,
      "outputs": []
    },
    {
      "cell_type": "code",
      "source": [
        "print(\"Guvi Geeks \")"
      ],
      "metadata": {
        "colab": {
          "base_uri": "https://localhost:8080/"
        },
        "id": "FFQc75DXqv-P",
        "outputId": "cc06da45-ed9e-4d56-c73b-bac1d72af074"
      },
      "execution_count": null,
      "outputs": [
        {
          "output_type": "stream",
          "name": "stdout",
          "text": [
            "Guvi Geeks \n"
          ]
        }
      ]
    },
    {
      "cell_type": "code",
      "source": [
        "print(\"I am having a pen that i will be using to write my exams \")"
      ],
      "metadata": {
        "colab": {
          "base_uri": "https://localhost:8080/"
        },
        "id": "iCjJ-Davq2qC",
        "outputId": "ef558dfd-5f59-4348-9710-0c9224946c1a"
      },
      "execution_count": null,
      "outputs": [
        {
          "output_type": "stream",
          "name": "stdout",
          "text": [
            "I am having a pen that i will be using to write my exams \n"
          ]
        }
      ]
    },
    {
      "cell_type": "code",
      "source": [
        "data = input ()"
      ],
      "metadata": {
        "colab": {
          "base_uri": "https://localhost:8080/"
        },
        "id": "xpUbolwwrUrS",
        "outputId": "310ced83-d4d7-4a53-9075-05b64f5a06b4"
      },
      "execution_count": null,
      "outputs": [
        {
          "name": "stdout",
          "output_type": "stream",
          "text": [
            "Anant tyagi\n"
          ]
        }
      ]
    },
    {
      "cell_type": "code",
      "source": [
        "print(data)\n"
      ],
      "metadata": {
        "colab": {
          "base_uri": "https://localhost:8080/"
        },
        "id": "MqRtD4TFr0I9",
        "outputId": "26c08c83-97d7-46e3-b42e-c625dac0b402"
      },
      "execution_count": null,
      "outputs": [
        {
          "output_type": "stream",
          "name": "stdout",
          "text": [
            "Anant tyagi\n"
          ]
        }
      ]
    },
    {
      "cell_type": "code",
      "source": [
        "print(data[0])"
      ],
      "metadata": {
        "colab": {
          "base_uri": "https://localhost:8080/"
        },
        "id": "aOtbzgU2sEfF",
        "outputId": "45303a5d-9559-49fd-ca29-9faa06940598"
      },
      "execution_count": null,
      "outputs": [
        {
          "output_type": "stream",
          "name": "stdout",
          "text": [
            "A\n"
          ]
        }
      ]
    },
    {
      "cell_type": "code",
      "source": [
        "print(data[10])"
      ],
      "metadata": {
        "colab": {
          "base_uri": "https://localhost:8080/"
        },
        "id": "Z-BJC3PWuBbI",
        "outputId": "1f4a5e2a-d5f5-4014-ebf7-dab3577d287b"
      },
      "execution_count": null,
      "outputs": [
        {
          "output_type": "stream",
          "name": "stdout",
          "text": [
            "i\n"
          ]
        }
      ]
    },
    {
      "cell_type": "code",
      "source": [
        "print(data)"
      ],
      "metadata": {
        "colab": {
          "base_uri": "https://localhost:8080/"
        },
        "id": "ARnpk6I4uEuk",
        "outputId": "0ee0e09f-971d-42c2-a2ac-6090a8bb735b"
      },
      "execution_count": null,
      "outputs": [
        {
          "output_type": "stream",
          "name": "stdout",
          "text": [
            "Anant tyagi\n"
          ]
        }
      ]
    },
    {
      "cell_type": "code",
      "source": [
        "print(data[0:4])"
      ],
      "metadata": {
        "colab": {
          "base_uri": "https://localhost:8080/"
        },
        "id": "v5S9diLDuLLm",
        "outputId": "9a173dd9-00a9-4059-bd4b-6755a90138ef"
      },
      "execution_count": null,
      "outputs": [
        {
          "output_type": "stream",
          "name": "stdout",
          "text": [
            "Anan\n"
          ]
        }
      ]
    },
    {
      "cell_type": "code",
      "source": [
        "print(data[-1])"
      ],
      "metadata": {
        "colab": {
          "base_uri": "https://localhost:8080/"
        },
        "id": "g-HKebxcuOpg",
        "outputId": "018a71b2-7c83-4421-94ee-619e00f89ae6"
      },
      "execution_count": null,
      "outputs": [
        {
          "output_type": "stream",
          "name": "stdout",
          "text": [
            "i\n"
          ]
        }
      ]
    },
    {
      "cell_type": "code",
      "source": [
        "print(data[-2])"
      ],
      "metadata": {
        "colab": {
          "base_uri": "https://localhost:8080/"
        },
        "id": "146r6ZPCvFkS",
        "outputId": "02abf651-c84d-4537-a826-affdd766e668"
      },
      "execution_count": null,
      "outputs": [
        {
          "output_type": "stream",
          "name": "stdout",
          "text": [
            "g\n"
          ]
        }
      ]
    },
    {
      "cell_type": "code",
      "source": [
        "print(data[0:-1])"
      ],
      "metadata": {
        "colab": {
          "base_uri": "https://localhost:8080/"
        },
        "id": "Wpnt6Wz7vLka",
        "outputId": "e366d942-d228-4e3c-96c3-1f5ad7cdaf4b"
      },
      "execution_count": null,
      "outputs": [
        {
          "output_type": "stream",
          "name": "stdout",
          "text": [
            "Anant tyag\n"
          ]
        }
      ]
    },
    {
      "cell_type": "code",
      "source": [
        "print(data[8: -1 ])"
      ],
      "metadata": {
        "colab": {
          "base_uri": "https://localhost:8080/"
        },
        "id": "jhg1kjoUvR5k",
        "outputId": "aad7f285-5cd8-4a41-e0d4-a17bb95cc8b7"
      },
      "execution_count": null,
      "outputs": [
        {
          "output_type": "stream",
          "name": "stdout",
          "text": [
            "ag\n"
          ]
        }
      ]
    },
    {
      "cell_type": "code",
      "source": [
        "print(data[5:-3])"
      ],
      "metadata": {
        "colab": {
          "base_uri": "https://localhost:8080/"
        },
        "id": "TyPgUajpvseB",
        "outputId": "84d39d4e-dad2-4b85-8fac-38b572fd384b"
      },
      "execution_count": null,
      "outputs": [
        {
          "output_type": "stream",
          "name": "stdout",
          "text": [
            " ty\n"
          ]
        }
      ]
    },
    {
      "cell_type": "code",
      "source": [
        "print(data[3:-3])"
      ],
      "metadata": {
        "colab": {
          "base_uri": "https://localhost:8080/"
        },
        "id": "-j_8MoM9wF5t",
        "outputId": "80f16e49-c849-4b49-edde-7c0f8f7b5d48"
      },
      "execution_count": null,
      "outputs": [
        {
          "output_type": "stream",
          "name": "stdout",
          "text": [
            "nt ty\n"
          ]
        }
      ]
    },
    {
      "cell_type": "code",
      "source": [
        "name = \"ANKIT\"\n",
        "# i want to show KIT as output\n",
        "print(name[2:])"
      ],
      "metadata": {
        "colab": {
          "base_uri": "https://localhost:8080/"
        },
        "id": "N0TDip33w3K7",
        "outputId": "7d047693-eb9c-487f-800a-4b4ebe5e92f3"
      },
      "execution_count": null,
      "outputs": [
        {
          "output_type": "stream",
          "name": "stdout",
          "text": [
            "KIT\n"
          ]
        }
      ]
    },
    {
      "cell_type": "code",
      "source": [
        "print(name[3:-3])"
      ],
      "metadata": {
        "colab": {
          "base_uri": "https://localhost:8080/"
        },
        "id": "ewGT8FB8xnCV",
        "outputId": "a5e9d72f-dc9f-4757-acee-8d9d723367e0"
      },
      "execution_count": null,
      "outputs": [
        {
          "output_type": "stream",
          "name": "stdout",
          "text": [
            "\n"
          ]
        }
      ]
    },
    {
      "cell_type": "code",
      "source": [
        "name"
      ],
      "metadata": {
        "colab": {
          "base_uri": "https://localhost:8080/",
          "height": 36
        },
        "id": "cewHF4q2yMVy",
        "outputId": "f1a49aac-3c88-4007-a3b9-50d26db33bbc"
      },
      "execution_count": null,
      "outputs": [
        {
          "output_type": "execute_result",
          "data": {
            "text/plain": [
              "'ANKIT'"
            ],
            "application/vnd.google.colaboratory.intrinsic+json": {
              "type": "string"
            }
          },
          "metadata": {},
          "execution_count": 38
        }
      ]
    },
    {
      "cell_type": "code",
      "source": [
        "type(name)"
      ],
      "metadata": {
        "colab": {
          "base_uri": "https://localhost:8080/"
        },
        "id": "Slu6yvhbzSnQ",
        "outputId": "512ce66f-3194-4552-ee6a-10f8c282cdeb"
      },
      "execution_count": null,
      "outputs": [
        {
          "output_type": "execute_result",
          "data": {
            "text/plain": [
              "str"
            ]
          },
          "metadata": {},
          "execution_count": 39
        }
      ]
    },
    {
      "cell_type": "code",
      "source": [
        "age =12"
      ],
      "metadata": {
        "id": "MFwzOtDHzVMW"
      },
      "execution_count": null,
      "outputs": []
    },
    {
      "cell_type": "code",
      "source": [
        "type(age)"
      ],
      "metadata": {
        "colab": {
          "base_uri": "https://localhost:8080/"
        },
        "id": "4nCbsC6jzYFv",
        "outputId": "50ccfb61-a97c-45ab-ab5d-6132f29553a8"
      },
      "execution_count": null,
      "outputs": [
        {
          "output_type": "execute_result",
          "data": {
            "text/plain": [
              "int"
            ]
          },
          "metadata": {},
          "execution_count": 41
        }
      ]
    },
    {
      "cell_type": "code",
      "source": [
        "basket - we can store fruits , but we cannot store water\n",
        "\n",
        "glass - i can store water , milk , juices , but not gases\n",
        "\n",
        "python\n",
        "when it comes to store data\n",
        "\n",
        "data is also having multiple types\n",
        "\n",
        "str (string ) = name , characters or combination of alphanumeric characters\n",
        "\n",
        "int ( integer ) = numbers ( .....-3,-2,-1, 0, 1,2,3,4, ....\n",
        "\n",
        "\n",
        "float ( fractional value ) = 0.314 , 2.25 , 7.5\n",
        "\n",
        "        Date =    Date\n",
        "        Boolean = True , False"
      ],
      "metadata": {
        "id": "NJFRSoJszZzU"
      },
      "execution_count": null,
      "outputs": []
    },
    {
      "cell_type": "code",
      "source": [
        "name = input()\n",
        "\n",
        "print(name)\n",
        "print(type(name))"
      ],
      "metadata": {
        "colab": {
          "base_uri": "https://localhost:8080/"
        },
        "id": "kK8mcj241v14",
        "outputId": "c7dbf71a-c074-42d7-937c-e3aef8f9a79d"
      },
      "execution_count": null,
      "outputs": [
        {
          "output_type": "stream",
          "name": "stdout",
          "text": [
            "lokesh\n",
            "lokesh\n",
            "<class 'str'>\n"
          ]
        }
      ]
    },
    {
      "cell_type": "code",
      "source": [
        "age = int(input())\n",
        "\n",
        "print(age)\n",
        "print(type(age))"
      ],
      "metadata": {
        "colab": {
          "base_uri": "https://localhost:8080/"
        },
        "id": "TDP1hRsW14d8",
        "outputId": "865ad57a-5592-42d1-a576-706dafcc37b9"
      },
      "execution_count": null,
      "outputs": [
        {
          "output_type": "stream",
          "name": "stdout",
          "text": [
            "12\n",
            "12\n",
            "<class 'int'>\n"
          ]
        }
      ]
    },
    {
      "cell_type": "code",
      "source": [
        "# i have to take input name and age and i have to print\n",
        "# output : hello name ,your age is ___ , glad to meet you .\n",
        "\n",
        "name = input(\"enter your name :\")\n",
        "age = int(input(\"enter your age :\"))\n",
        "\n",
        "print(\"Hello\",name,\",your age is \",age,\",Glad to meet you !\")"
      ],
      "metadata": {
        "colab": {
          "base_uri": "https://localhost:8080/"
        },
        "id": "kioQ1szp2QQE",
        "outputId": "a584ef2d-5d5e-4d6a-ec3c-66a4a1c5fd20"
      },
      "execution_count": null,
      "outputs": [
        {
          "output_type": "stream",
          "name": "stdout",
          "text": [
            "enter your name :Ankita \n",
            "enter your age :15\n",
            "Hello Ankita  ,your age is  15 ,Glad to meet you !\n"
          ]
        }
      ]
    },
    {
      "cell_type": "code",
      "source": [
        "# if age > 18 , print please use your vote wisely\n",
        "if age <18 , print you are not allowed to vote , please wait for years 18- age"
      ],
      "metadata": {
        "id": "byM_6aXL3ps_"
      },
      "execution_count": null,
      "outputs": []
    },
    {
      "cell_type": "code",
      "source": [
        "name = input(\"enter your name :\")\n",
        "age = int(input(\"enter your age :\"))\n",
        "\n",
        "print(\"Hello\",name,\",your age is \",age,\",Glad to meet you !\")\n",
        "if age>=18:\n",
        "  print(\"Hey! you are allowed to vote , please use it wisely \")\n",
        "else:\n",
        "  print(\"You are not allowed to vote , kindly wait for :\" ,18-age, \"years\")\n",
        "print(\"Thank you \")"
      ],
      "metadata": {
        "colab": {
          "base_uri": "https://localhost:8080/"
        },
        "id": "jwPJGrrt4TjX",
        "outputId": "195b7395-f0ad-427a-9911-45f1ef666cf4"
      },
      "execution_count": null,
      "outputs": [
        {
          "output_type": "stream",
          "name": "stdout",
          "text": [
            "enter your name :Anant\n",
            "enter your age :25\n",
            "Hello Anant ,your age is  25 ,Glad to meet you !\n",
            "Hey! you are allowed to vote , please use it wisely \n",
            "Thank you \n"
          ]
        }
      ]
    },
    {
      "cell_type": "markdown",
      "source": [
        "Task : take a number as input from user and print weather it is even or odd\n"
      ],
      "metadata": {
        "id": "1-Lmb-dz4Sal"
      }
    },
    {
      "cell_type": "code",
      "source": [
        "n = int(input())\n",
        "\n",
        "if n%2==0:\n",
        "  print(\"Even\")\n",
        "else:\n",
        "  print(\"Odd\")"
      ],
      "metadata": {
        "colab": {
          "base_uri": "https://localhost:8080/"
        },
        "id": "kNZfHNKj5_21",
        "outputId": "8bdcabf2-cf46-4472-e3ae-28b9615e0e47"
      },
      "execution_count": null,
      "outputs": [
        {
          "output_type": "stream",
          "name": "stdout",
          "text": [
            "88\n",
            "Even\n"
          ]
        }
      ]
    },
    {
      "cell_type": "code",
      "source": [
        "salary as input , he can purchase only 1 vehicle\n",
        "if salary >500000 :he will purchase car\n",
        "if salary>3 lakh: he will puchase bike\n",
        "if salary is >1 lakh : he will buy  a scooty\n",
        "if salary >50000 , he will use public buses\n",
        "otherwise : kindly go by walk\n"
      ],
      "metadata": {
        "id": "kx_2U0Wb6WJh"
      },
      "execution_count": null,
      "outputs": []
    },
    {
      "cell_type": "code",
      "source": [
        "salary = int(input())\n",
        "if salary>500000 :\n",
        "  print(\"purchase a car\")\n",
        "elif salary >300000:\n",
        "  print(\"purchase a bike\")\n",
        "elif salary >100000:\n",
        "  print(\"purchase a scooty\")\n",
        "elif salary>50000:\n",
        "  print(\"kindly use public vehicle (buses)\")\n",
        "else :\n",
        "  print(\"kindly go by walk\")"
      ],
      "metadata": {
        "colab": {
          "base_uri": "https://localhost:8080/"
        },
        "id": "kl7Uj3th8ipQ",
        "outputId": "a351cb57-200f-411f-93c1-4668a8de0348"
      },
      "execution_count": null,
      "outputs": [
        {
          "output_type": "stream",
          "name": "stdout",
          "text": [
            "600000\n",
            "purchase a car\n"
          ]
        }
      ]
    },
    {
      "cell_type": "code",
      "source": [],
      "metadata": {
        "id": "0cD6XNi89QGS"
      },
      "execution_count": null,
      "outputs": []
    },
    {
      "cell_type": "code",
      "source": [
        "you have to take input a, b,c\n",
        "weather is it satisfying a^2 + b^2 is equal or greater than or less than c^2\n",
        "\n",
        "if a^2 + b^2 is EQUAL = ITS RIGHT ANDLED TRIANGLE\n",
        "IF a^2 + b^2 is LESS = ACUTE ANGLE TRIANGLE\n",
        "a^2 + b^2 is GRETER = OBTUSE angle triangle"
      ],
      "metadata": {
        "colab": {
          "base_uri": "https://localhost:8080/",
          "height": 106
        },
        "id": "eFNw4_yCAxY2",
        "outputId": "d700cc84-9e14-4046-c3d3-f1dafa41242c"
      },
      "execution_count": null,
      "outputs": [
        {
          "output_type": "error",
          "ename": "SyntaxError",
          "evalue": "invalid syntax (<ipython-input-53-2457fb6743b2>, line 1)",
          "traceback": [
            "\u001b[0;36m  File \u001b[0;32m\"<ipython-input-53-2457fb6743b2>\"\u001b[0;36m, line \u001b[0;32m1\u001b[0m\n\u001b[0;31m    you have to take input a, b,c\u001b[0m\n\u001b[0m        ^\u001b[0m\n\u001b[0;31mSyntaxError\u001b[0m\u001b[0;31m:\u001b[0m invalid syntax\n"
          ]
        }
      ]
    },
    {
      "cell_type": "code",
      "source": [
        "a=int(input())\n",
        "b=int(input())\n",
        "c=int(input())\n",
        "sumofsq=(a*a)+(b*b)\n",
        "sq=c*c\n",
        "if(sumofsq==sq):\n",
        "    print(\"It is a right angled triangle.\")\n",
        "elif(sumofsq<sq):\n",
        "    print(\"It is an acute angled triangle.\")\n",
        "else:\n",
        "    print(\"It is an obtuse angled traingle.\")"
      ],
      "metadata": {
        "colab": {
          "base_uri": "https://localhost:8080/"
        },
        "id": "Nby_SWkFBAX-",
        "outputId": "fe35386b-7fb9-4301-cafa-5b4bd51667b6"
      },
      "execution_count": null,
      "outputs": [
        {
          "output_type": "stream",
          "name": "stdout",
          "text": [
            "4\n",
            "3\n",
            "5\n",
            "It is a right angled triangle.\n"
          ]
        }
      ]
    },
    {
      "cell_type": "code",
      "source": [
        "n = \"lokesh\""
      ],
      "metadata": {
        "id": "DFcjp7bFDLIn"
      },
      "execution_count": null,
      "outputs": []
    },
    {
      "cell_type": "code",
      "source": [
        "n =123"
      ],
      "metadata": {
        "id": "tYVpEHnxr1av"
      },
      "execution_count": null,
      "outputs": []
    },
    {
      "cell_type": "code",
      "source": [
        "print(n)"
      ],
      "metadata": {
        "colab": {
          "base_uri": "https://localhost:8080/"
        },
        "id": "Tcquv96_r2l0",
        "outputId": "911c3cfd-b20d-409c-e09e-f14679bc0c9e"
      },
      "execution_count": null,
      "outputs": [
        {
          "output_type": "stream",
          "name": "stdout",
          "text": [
            "123\n"
          ]
        }
      ]
    },
    {
      "cell_type": "code",
      "source": [
        "print(\"your age is \",n)"
      ],
      "metadata": {
        "colab": {
          "base_uri": "https://localhost:8080/"
        },
        "id": "EACWnTchsZB0",
        "outputId": "e71fcecf-e744-4f06-b67b-7985967cfaa8"
      },
      "execution_count": null,
      "outputs": [
        {
          "output_type": "stream",
          "name": "stdout",
          "text": [
            "your age is  123\n"
          ]
        }
      ]
    },
    {
      "cell_type": "code",
      "source": [
        "print(f\"your age is {n} \")"
      ],
      "metadata": {
        "colab": {
          "base_uri": "https://localhost:8080/"
        },
        "id": "SyxnE5z62qL5",
        "outputId": "dfaa1ab8-e606-429a-ede6-62cb057e0bf3"
      },
      "execution_count": null,
      "outputs": [
        {
          "output_type": "stream",
          "name": "stdout",
          "text": [
            "your age is 123 \n"
          ]
        }
      ]
    },
    {
      "cell_type": "code",
      "source": [
        "number %2=0: assignment operator\n",
        "number%2==0 : comparison"
      ],
      "metadata": {
        "id": "u4Hu3NEw20ZF"
      },
      "execution_count": null,
      "outputs": []
    },
    {
      "cell_type": "code",
      "source": [
        "fundamental data type\n",
        "str\n",
        "int\n",
        "float\n",
        "bool"
      ],
      "metadata": {
        "id": "COSRntpC4VRC"
      },
      "execution_count": null,
      "outputs": []
    },
    {
      "cell_type": "code",
      "source": [
        "user defined data type\n",
        "list\n",
        "dictionary\n",
        "tuple\n",
        "set"
      ],
      "metadata": {
        "id": "qub8rsdY4Z4k"
      },
      "execution_count": null,
      "outputs": []
    },
    {
      "cell_type": "code",
      "source": [
        "# List\n",
        "# it is a collection of multiple data elements  , that data can be of any type\n",
        "\n",
        "data = []\n",
        "\n",
        "data = [\"Monica\", \"Dhanya\", 1234,3.14, True, False]\n",
        "\n",
        "\n",
        "\n"
      ],
      "metadata": {
        "id": "dypeQF7F4m9u"
      },
      "execution_count": null,
      "outputs": []
    },
    {
      "cell_type": "code",
      "source": [
        "data"
      ],
      "metadata": {
        "colab": {
          "base_uri": "https://localhost:8080/"
        },
        "id": "yMRc7VTt5QEP",
        "outputId": "01193a55-1c82-4bfd-dd35-71e026774fe2"
      },
      "execution_count": null,
      "outputs": [
        {
          "output_type": "execute_result",
          "data": {
            "text/plain": [
              "['Monica', 'Dhanya', 1234, 3.14, True, False]"
            ]
          },
          "metadata": {},
          "execution_count": 11
        }
      ]
    },
    {
      "cell_type": "code",
      "source": [
        "type(data)"
      ],
      "metadata": {
        "colab": {
          "base_uri": "https://localhost:8080/"
        },
        "id": "rsP05m5_5RXY",
        "outputId": "22493517-34a4-4f13-d1d1-7e4b2ef46e39"
      },
      "execution_count": null,
      "outputs": [
        {
          "output_type": "execute_result",
          "data": {
            "text/plain": [
              "list"
            ]
          },
          "metadata": {},
          "execution_count": 12
        }
      ]
    },
    {
      "cell_type": "code",
      "source": [
        "data[0]"
      ],
      "metadata": {
        "colab": {
          "base_uri": "https://localhost:8080/",
          "height": 36
        },
        "id": "u40mwOAU5TXH",
        "outputId": "cebefd38-5012-48d5-c2bd-8a5ec1ae9fa5"
      },
      "execution_count": null,
      "outputs": [
        {
          "output_type": "execute_result",
          "data": {
            "text/plain": [
              "'Monica'"
            ],
            "application/vnd.google.colaboratory.intrinsic+json": {
              "type": "string"
            }
          },
          "metadata": {},
          "execution_count": 13
        }
      ]
    },
    {
      "cell_type": "code",
      "source": [
        "type(data[0])"
      ],
      "metadata": {
        "colab": {
          "base_uri": "https://localhost:8080/"
        },
        "id": "-6yaE1Vl5We6",
        "outputId": "8377f7fb-bda6-4ffa-db13-9d7a9d7c9897"
      },
      "execution_count": null,
      "outputs": [
        {
          "output_type": "execute_result",
          "data": {
            "text/plain": [
              "str"
            ]
          },
          "metadata": {},
          "execution_count": 14
        }
      ]
    },
    {
      "cell_type": "code",
      "source": [
        "Example : class :\n",
        "          students"
      ],
      "metadata": {
        "id": "zL0ehk-_5ZMn"
      },
      "execution_count": null,
      "outputs": []
    },
    {
      "cell_type": "code",
      "source": [
        "#Dictionary\n",
        "\n",
        "mydata = {\"name\" : \"Laxmi\" , \"age\" :  12, \"clas\" : 12 }\n",
        "\n",
        "\n"
      ],
      "metadata": {
        "id": "zC-xkyd0588U"
      },
      "execution_count": null,
      "outputs": []
    },
    {
      "cell_type": "code",
      "source": [
        "mydata"
      ],
      "metadata": {
        "colab": {
          "base_uri": "https://localhost:8080/"
        },
        "id": "Jkdi8Z4c6YcL",
        "outputId": "043ff04e-adf4-4d10-b551-2e56ab886172"
      },
      "execution_count": null,
      "outputs": [
        {
          "output_type": "execute_result",
          "data": {
            "text/plain": [
              "{'name': 'Laxmi', 'age': 12, 'clas': 12}"
            ]
          },
          "metadata": {},
          "execution_count": 17
        }
      ]
    },
    {
      "cell_type": "code",
      "source": [
        "mydata[0]"
      ],
      "metadata": {
        "colab": {
          "base_uri": "https://localhost:8080/",
          "height": 141
        },
        "id": "UZLQcAdw9zd3",
        "outputId": "5dbc7cf1-af71-4e75-cea1-d0d4c2fb3b74"
      },
      "execution_count": null,
      "outputs": [
        {
          "output_type": "error",
          "ename": "KeyError",
          "evalue": "0",
          "traceback": [
            "\u001b[0;31m---------------------------------------------------------------------------\u001b[0m",
            "\u001b[0;31mKeyError\u001b[0m                                  Traceback (most recent call last)",
            "\u001b[0;32m<ipython-input-32-9d1cadccc6c6>\u001b[0m in \u001b[0;36m<cell line: 1>\u001b[0;34m()\u001b[0m\n\u001b[0;32m----> 1\u001b[0;31m \u001b[0mmydata\u001b[0m\u001b[0;34m[\u001b[0m\u001b[0;36m0\u001b[0m\u001b[0;34m]\u001b[0m\u001b[0;34m\u001b[0m\u001b[0;34m\u001b[0m\u001b[0m\n\u001b[0m",
            "\u001b[0;31mKeyError\u001b[0m: 0"
          ]
        }
      ]
    },
    {
      "cell_type": "code",
      "source": [
        "mydata[\"name\"]"
      ],
      "metadata": {
        "colab": {
          "base_uri": "https://localhost:8080/",
          "height": 36
        },
        "id": "G_EmLPro6hIy",
        "outputId": "3b0fc6d0-ee13-43af-e4c2-712912b9a389"
      },
      "execution_count": null,
      "outputs": [
        {
          "output_type": "execute_result",
          "data": {
            "text/plain": [
              "'Laxmi'"
            ],
            "application/vnd.google.colaboratory.intrinsic+json": {
              "type": "string"
            }
          },
          "metadata": {},
          "execution_count": 33
        }
      ]
    },
    {
      "cell_type": "code",
      "source": [
        "mydata[\"age\"]"
      ],
      "metadata": {
        "colab": {
          "base_uri": "https://localhost:8080/"
        },
        "id": "b1aslv2W6pjy",
        "outputId": "bb942e0d-82c5-4c71-88c8-604fc2676b47"
      },
      "execution_count": null,
      "outputs": [
        {
          "output_type": "execute_result",
          "data": {
            "text/plain": [
              "12"
            ]
          },
          "metadata": {},
          "execution_count": 19
        }
      ]
    },
    {
      "cell_type": "code",
      "source": [
        "type(mydata[\"age\"])"
      ],
      "metadata": {
        "colab": {
          "base_uri": "https://localhost:8080/"
        },
        "id": "07Rud1Db6rQU",
        "outputId": "36fa3da0-1ac0-40e5-cfa1-c9e663ce146b"
      },
      "execution_count": null,
      "outputs": [
        {
          "output_type": "execute_result",
          "data": {
            "text/plain": [
              "int"
            ]
          },
          "metadata": {},
          "execution_count": 21
        }
      ]
    },
    {
      "cell_type": "code",
      "source": [
        "#Tuple\n",
        "\n",
        "d = ( \"a\",\"b\",\"c\",\"d\")"
      ],
      "metadata": {
        "id": "EJI2Tknu7F00"
      },
      "execution_count": null,
      "outputs": []
    },
    {
      "cell_type": "code",
      "source": [
        "type(d)"
      ],
      "metadata": {
        "colab": {
          "base_uri": "https://localhost:8080/"
        },
        "id": "bDv5Dn1m7U_B",
        "outputId": "198237e0-894e-4bde-daf6-864a8bc8eff2"
      },
      "execution_count": null,
      "outputs": [
        {
          "output_type": "execute_result",
          "data": {
            "text/plain": [
              "tuple"
            ]
          },
          "metadata": {},
          "execution_count": 24
        }
      ]
    },
    {
      "cell_type": "code",
      "source": [
        "d[0]"
      ],
      "metadata": {
        "colab": {
          "base_uri": "https://localhost:8080/",
          "height": 36
        },
        "id": "a_Ddkj9I7au2",
        "outputId": "67a9fdd8-faa4-47a8-da2e-c076a01d3217"
      },
      "execution_count": null,
      "outputs": [
        {
          "output_type": "execute_result",
          "data": {
            "text/plain": [
              "'a'"
            ],
            "application/vnd.google.colaboratory.intrinsic+json": {
              "type": "string"
            }
          },
          "metadata": {},
          "execution_count": 25
        }
      ]
    },
    {
      "cell_type": "code",
      "source": [
        "d[1]"
      ],
      "metadata": {
        "colab": {
          "base_uri": "https://localhost:8080/",
          "height": 36
        },
        "id": "dMwhGbWI7cdd",
        "outputId": "5cc1a6e4-a891-4a7f-c162-a06cbe2aa34c"
      },
      "execution_count": null,
      "outputs": [
        {
          "output_type": "execute_result",
          "data": {
            "text/plain": [
              "'b'"
            ],
            "application/vnd.google.colaboratory.intrinsic+json": {
              "type": "string"
            }
          },
          "metadata": {},
          "execution_count": 26
        }
      ]
    },
    {
      "cell_type": "code",
      "source": [
        "d[3]"
      ],
      "metadata": {
        "colab": {
          "base_uri": "https://localhost:8080/",
          "height": 36
        },
        "id": "O04BPDOA7dxA",
        "outputId": "d8f460b8-5153-49a8-bc81-a55aaffa8156"
      },
      "execution_count": null,
      "outputs": [
        {
          "output_type": "execute_result",
          "data": {
            "text/plain": [
              "'d'"
            ],
            "application/vnd.google.colaboratory.intrinsic+json": {
              "type": "string"
            }
          },
          "metadata": {},
          "execution_count": 27
        }
      ]
    },
    {
      "cell_type": "code",
      "source": [
        "d[2]"
      ],
      "metadata": {
        "colab": {
          "base_uri": "https://localhost:8080/",
          "height": 36
        },
        "id": "FN8Xs_BH7e5z",
        "outputId": "b10c5fd0-a55f-4065-94c6-d154335f6488"
      },
      "execution_count": null,
      "outputs": [
        {
          "output_type": "execute_result",
          "data": {
            "text/plain": [
              "'c'"
            ],
            "application/vnd.google.colaboratory.intrinsic+json": {
              "type": "string"
            }
          },
          "metadata": {},
          "execution_count": 29
        }
      ]
    },
    {
      "cell_type": "code",
      "source": [
        "list : it a collection of data\n",
        "we can do modification in list\n",
        " [ ]\n",
        "\n",
        "tuple : it is also collection of data\n",
        "once defined , no changes allowed\n",
        "\n",
        "dictionary : its a collection key value pair\n"
      ],
      "metadata": {
        "id": "Xm0HyFQh7gnr"
      },
      "execution_count": null,
      "outputs": []
    },
    {
      "cell_type": "code",
      "source": [
        "name = \"suresh\""
      ],
      "metadata": {
        "id": "C1uLUD0B8h6d"
      },
      "execution_count": null,
      "outputs": []
    },
    {
      "cell_type": "code",
      "source": [
        "name[0]"
      ],
      "metadata": {
        "colab": {
          "base_uri": "https://localhost:8080/",
          "height": 36
        },
        "id": "1za_IVAR8p7x",
        "outputId": "38ef5d99-2a2c-43eb-bfbc-ce45f4281cae"
      },
      "execution_count": null,
      "outputs": [
        {
          "output_type": "execute_result",
          "data": {
            "text/plain": [
              "'s'"
            ],
            "application/vnd.google.colaboratory.intrinsic+json": {
              "type": "string"
            }
          },
          "metadata": {},
          "execution_count": 31
        }
      ]
    },
    {
      "cell_type": "code",
      "source": [
        "d=()\n",
        "\n",
        "type(d)"
      ],
      "metadata": {
        "colab": {
          "base_uri": "https://localhost:8080/"
        },
        "id": "O5o9UfEX8q83",
        "outputId": "a0b6451a-02f7-4516-8056-2a99e36efce9"
      },
      "execution_count": null,
      "outputs": [
        {
          "output_type": "execute_result",
          "data": {
            "text/plain": [
              "tuple"
            ]
          },
          "metadata": {},
          "execution_count": 37
        }
      ]
    },
    {
      "cell_type": "code",
      "source": [
        "data =[1,2,3,4,5,6,7,8,9,10]\n",
        "\n",
        "type(data)"
      ],
      "metadata": {
        "colab": {
          "base_uri": "https://localhost:8080/"
        },
        "id": "gvBtjS7H-KdN",
        "outputId": "e40232b4-0836-4a17-922e-65c51e3b7636"
      },
      "execution_count": null,
      "outputs": [
        {
          "output_type": "execute_result",
          "data": {
            "text/plain": [
              "list"
            ]
          },
          "metadata": {},
          "execution_count": 38
        }
      ]
    },
    {
      "cell_type": "code",
      "source": [
        "for ele in data :\n",
        "  print(\"values are :\",ele)\n",
        "print(\"*\")\n"
      ],
      "metadata": {
        "colab": {
          "base_uri": "https://localhost:8080/"
        },
        "id": "V-TUKkvQ-kCa",
        "outputId": "2dd195d3-a366-4ed8-c17e-b67a39715279"
      },
      "execution_count": null,
      "outputs": [
        {
          "output_type": "stream",
          "name": "stdout",
          "text": [
            "values are : 1\n",
            "values are : 2\n",
            "values are : 3\n",
            "values are : 4\n",
            "values are : 5\n",
            "values are : 6\n",
            "values are : 7\n",
            "values are : 8\n",
            "values are : 9\n",
            "values are : 10\n",
            "*\n"
          ]
        }
      ]
    },
    {
      "cell_type": "code",
      "source": [
        "print(\"multiple of 4\")\n",
        "for ele in data :\n",
        "  print(\"multiple of 4 :\",4 * ele)"
      ],
      "metadata": {
        "colab": {
          "base_uri": "https://localhost:8080/"
        },
        "id": "lpNT4THm_Eo_",
        "outputId": "9bd19609-1c84-4ca1-f423-a4b65be5fed9"
      },
      "execution_count": null,
      "outputs": [
        {
          "output_type": "stream",
          "name": "stdout",
          "text": [
            "multiple of 4\n",
            "multiple of 4 : 4\n",
            "multiple of 4 : 8\n",
            "multiple of 4 : 12\n",
            "multiple of 4 : 16\n",
            "multiple of 4 : 20\n",
            "multiple of 4 : 24\n",
            "multiple of 4 : 28\n",
            "multiple of 4 : 32\n",
            "multiple of 4 : 36\n",
            "multiple of 4 : 40\n"
          ]
        }
      ]
    },
    {
      "cell_type": "code",
      "source": [
        "# input : 10 5 15 17 89 45\n",
        "print sum of those values"
      ],
      "metadata": {
        "id": "IQbsqjEq_5yx"
      },
      "execution_count": null,
      "outputs": []
    },
    {
      "cell_type": "code",
      "source": [
        "d = input()\n",
        "\n",
        "print(d)"
      ],
      "metadata": {
        "colab": {
          "base_uri": "https://localhost:8080/"
        },
        "id": "R69_kEGVAkIO",
        "outputId": "20d3dad0-08e6-468c-8db1-168264344660"
      },
      "execution_count": null,
      "outputs": [
        {
          "output_type": "stream",
          "name": "stdout",
          "text": [
            "10 5 15 17 89 45\n",
            "10 5 15 17 89 45\n"
          ]
        }
      ]
    },
    {
      "cell_type": "code",
      "source": [
        "type(d)"
      ],
      "metadata": {
        "colab": {
          "base_uri": "https://localhost:8080/"
        },
        "id": "EOwIvkrDAnvU",
        "outputId": "ea84c946-b2d9-4a4b-f2a8-214f6dac0c6f"
      },
      "execution_count": null,
      "outputs": [
        {
          "output_type": "execute_result",
          "data": {
            "text/plain": [
              "str"
            ]
          },
          "metadata": {},
          "execution_count": 42
        }
      ]
    },
    {
      "cell_type": "code",
      "source": [
        "data = d.split()"
      ],
      "metadata": {
        "id": "OHum9PQkArY9"
      },
      "execution_count": null,
      "outputs": []
    },
    {
      "cell_type": "code",
      "source": [
        "data"
      ],
      "metadata": {
        "colab": {
          "base_uri": "https://localhost:8080/"
        },
        "id": "nr58HicBA4hA",
        "outputId": "0a82d8c8-3efd-4971-ce2b-57c2c83ab394"
      },
      "execution_count": null,
      "outputs": [
        {
          "output_type": "execute_result",
          "data": {
            "text/plain": [
              "['10', '5', '15', '17', '89', '45']"
            ]
          },
          "metadata": {},
          "execution_count": 44
        }
      ]
    },
    {
      "cell_type": "code",
      "source": [
        "new_list =[]\n",
        "for i in data:\n",
        "  new_list.append(int(i))\n"
      ],
      "metadata": {
        "id": "z0Py5uIAA5xI"
      },
      "execution_count": null,
      "outputs": []
    },
    {
      "cell_type": "code",
      "source": [
        "new_list"
      ],
      "metadata": {
        "colab": {
          "base_uri": "https://localhost:8080/"
        },
        "id": "uSD1iI04BN8E",
        "outputId": "e26aac02-f09f-4809-859c-51a1279f525d"
      },
      "execution_count": null,
      "outputs": [
        {
          "output_type": "execute_result",
          "data": {
            "text/plain": [
              "[10, 5, 15, 17, 89, 45]"
            ]
          },
          "metadata": {},
          "execution_count": 46
        }
      ]
    },
    {
      "cell_type": "code",
      "source": [
        "type(new_list[0])"
      ],
      "metadata": {
        "colab": {
          "base_uri": "https://localhost:8080/"
        },
        "id": "8jO_kHyQBPR8",
        "outputId": "6b6e5ce6-6747-43f2-db50-2de41e91be71"
      },
      "execution_count": null,
      "outputs": [
        {
          "output_type": "execute_result",
          "data": {
            "text/plain": [
              "int"
            ]
          },
          "metadata": {},
          "execution_count": 47
        }
      ]
    },
    {
      "cell_type": "code",
      "source": [
        "record = list(map(int , input().split()))"
      ],
      "metadata": {
        "colab": {
          "base_uri": "https://localhost:8080/"
        },
        "id": "Uzwx9zjSBXdi",
        "outputId": "e49f4acd-a839-4ecb-c9a1-c256c9d12ddc"
      },
      "execution_count": null,
      "outputs": [
        {
          "name": "stdout",
          "output_type": "stream",
          "text": [
            "10 5 15 17 89 45\n"
          ]
        }
      ]
    },
    {
      "cell_type": "code",
      "source": [
        "record\n"
      ],
      "metadata": {
        "colab": {
          "base_uri": "https://localhost:8080/"
        },
        "id": "3D-KYyrsCZzX",
        "outputId": "676cbba0-1a9c-4e99-984a-0038b19cff14"
      },
      "execution_count": null,
      "outputs": [
        {
          "output_type": "execute_result",
          "data": {
            "text/plain": [
              "[10, 5, 15, 17, 89, 45]"
            ]
          },
          "metadata": {},
          "execution_count": 49
        }
      ]
    },
    {
      "cell_type": "code",
      "source": [
        "sum(record)"
      ],
      "metadata": {
        "colab": {
          "base_uri": "https://localhost:8080/"
        },
        "id": "RaML0ajKCePp",
        "outputId": "2b00cd30-58c4-4514-f999-d300f3a8d1f7"
      },
      "execution_count": null,
      "outputs": [
        {
          "output_type": "execute_result",
          "data": {
            "text/plain": [
              "181"
            ]
          },
          "metadata": {},
          "execution_count": 50
        }
      ]
    },
    {
      "cell_type": "code",
      "source": [
        "You are given with Principle amount($), Interest Rate(%) and Time (years) in that order. Find Simple Interest.\n",
        "\n",
        "Print the output up to two decimal places (Round-off if necessary).\n",
        "\n",
        "(S.I. = P*T*R/100)\n",
        "\n",
        "Input Description:\n",
        "Three values are given to you as the input. these values correspond to Principle amount, Interest Rate and Time in that particular order.\n",
        "\n",
        "Output Description:\n",
        "Find the Simple interest and print it up to two decimal places. Round off if required.\n",
        "\n",
        "Sample Input :\n",
        "1000 2 5\n",
        "Sample Output :\n",
        "100.00\n"
      ],
      "metadata": {
        "id": "kOsTCZIuCoOP"
      },
      "execution_count": null,
      "outputs": []
    },
    {
      "cell_type": "code",
      "source": [
        "P,T,R=map(float,input().split())\n",
        "si = P*R*T /100\n",
        "print(f\"{si:.2f}\")"
      ],
      "metadata": {
        "colab": {
          "base_uri": "https://localhost:8080/"
        },
        "id": "IzVP882tD1nV",
        "outputId": "e7ddf386-c943-4723-cf5a-2ef7877198d1"
      },
      "execution_count": null,
      "outputs": [
        {
          "output_type": "stream",
          "name": "stdout",
          "text": [
            "1000 2 5\n",
            "100.00\n"
          ]
        }
      ]
    },
    {
      "cell_type": "code",
      "source": [
        "Write a code get an integer number as input and print the odd and even digits of the number separately.\n",
        "\n",
        "Input Description:\n",
        "A single line containing an integer.\n",
        "\n",
        "Output Description:\n",
        "Print the even and odd integers of the integer in a separate line.\n",
        "\n",
        "Sample Input :\n",
        "1234\n",
        "Sample Output :\n",
        "2 4\n",
        "1 3"
      ],
      "metadata": {
        "id": "MMHWZIMoE7WJ"
      },
      "execution_count": null,
      "outputs": []
    },
    {
      "cell_type": "code",
      "source": [
        "number = list(map(int,list(input())))\n",
        "even_list=[]\n",
        "odd_list = []\n",
        "for i in number :\n",
        "  if i % 2 ==0:\n",
        "    even_list.append(i)\n",
        "  else:\n",
        "    odd_list.append(i)\n",
        "\n",
        "print(*sorted(even_list))\n",
        "print(*sorted(odd_list))"
      ],
      "metadata": {
        "colab": {
          "base_uri": "https://localhost:8080/"
        },
        "id": "sTbnsYnUGLHq",
        "outputId": "996efe93-d78b-4213-ca51-11af5ac74908"
      },
      "execution_count": null,
      "outputs": [
        {
          "output_type": "stream",
          "name": "stdout",
          "text": [
            "1234\n",
            "2 4\n",
            "1 3\n"
          ]
        }
      ]
    },
    {
      "cell_type": "code",
      "source": [
        "y = 10>5\n",
        "print(y)"
      ],
      "metadata": {
        "colab": {
          "base_uri": "https://localhost:8080/"
        },
        "id": "cjs6CrryHe5e",
        "outputId": "2731751d-1f61-4fd3-96df-1a4f4aaef0da"
      },
      "execution_count": null,
      "outputs": [
        {
          "output_type": "stream",
          "name": "stdout",
          "text": [
            "True\n"
          ]
        }
      ]
    },
    {
      "cell_type": "code",
      "source": [
        "type(y)"
      ],
      "metadata": {
        "colab": {
          "base_uri": "https://localhost:8080/"
        },
        "id": "rLJJuygSL8LP",
        "outputId": "576cd286-d9d7-4028-93c8-a5d06e56d2ad"
      },
      "execution_count": null,
      "outputs": [
        {
          "output_type": "execute_result",
          "data": {
            "text/plain": [
              "bool"
            ]
          },
          "metadata": {},
          "execution_count": 61
        }
      ]
    },
    {
      "cell_type": "code",
      "source": [
        "x='3.14'\n",
        "type(x)"
      ],
      "metadata": {
        "colab": {
          "base_uri": "https://localhost:8080/"
        },
        "id": "notxOrvnL-jZ",
        "outputId": "18f4ebd1-7e4b-42d4-d6ed-1cb6c30d9535"
      },
      "execution_count": null,
      "outputs": [
        {
          "output_type": "execute_result",
          "data": {
            "text/plain": [
              "str"
            ]
          },
          "metadata": {},
          "execution_count": 62
        }
      ]
    },
    {
      "cell_type": "code",
      "source": [
        "a2=int(input())\n",
        "print(a2)"
      ],
      "metadata": {
        "colab": {
          "base_uri": "https://localhost:8080/"
        },
        "id": "R5-SLA3JMCv7",
        "outputId": "6b7970d7-7d45-4511-a5e0-551276043dca"
      },
      "execution_count": null,
      "outputs": [
        {
          "output_type": "stream",
          "name": "stdout",
          "text": [
            "1234\n",
            "1234\n"
          ]
        }
      ]
    },
    {
      "cell_type": "code",
      "source": [
        "m =[1,2,3,4,5,6,7]\n"
      ],
      "metadata": {
        "id": "mOZ3KvixOBqi"
      },
      "execution_count": null,
      "outputs": []
    },
    {
      "cell_type": "code",
      "source": [
        "type(m)"
      ],
      "metadata": {
        "colab": {
          "base_uri": "https://localhost:8080/"
        },
        "id": "9SFCVPAWtHgK",
        "outputId": "02f5353f-494f-4151-eb19-9f4aa277261e"
      },
      "execution_count": null,
      "outputs": [
        {
          "output_type": "execute_result",
          "data": {
            "text/plain": [
              "list"
            ]
          },
          "metadata": {},
          "execution_count": 3
        }
      ]
    },
    {
      "cell_type": "code",
      "source": [
        "m.append(8)"
      ],
      "metadata": {
        "id": "LqwdM6smtIqR"
      },
      "execution_count": null,
      "outputs": []
    },
    {
      "cell_type": "code",
      "source": [
        "m"
      ],
      "metadata": {
        "colab": {
          "base_uri": "https://localhost:8080/"
        },
        "id": "namoMMnuwBDS",
        "outputId": "eed98834-cd9d-470f-f76a-7f6ce6911804"
      },
      "execution_count": null,
      "outputs": [
        {
          "output_type": "execute_result",
          "data": {
            "text/plain": [
              "[1, 2, 3, 4, 5, 6, 7, 8]"
            ]
          },
          "metadata": {},
          "execution_count": 6
        }
      ]
    },
    {
      "cell_type": "code",
      "source": [
        "m.pop(1)"
      ],
      "metadata": {
        "colab": {
          "base_uri": "https://localhost:8080/"
        },
        "id": "yceJoVNJ-amX",
        "outputId": "a221a5c6-5c0a-4084-e031-09c5667ded0f"
      },
      "execution_count": null,
      "outputs": [
        {
          "output_type": "execute_result",
          "data": {
            "text/plain": [
              "2"
            ]
          },
          "metadata": {},
          "execution_count": 7
        }
      ]
    },
    {
      "cell_type": "code",
      "source": [
        "m"
      ],
      "metadata": {
        "colab": {
          "base_uri": "https://localhost:8080/"
        },
        "id": "ggJ8PVbT-gnp",
        "outputId": "a4ce16ea-6300-42df-ce6c-4a9f3e0f24a6"
      },
      "execution_count": null,
      "outputs": [
        {
          "output_type": "execute_result",
          "data": {
            "text/plain": [
              "[1, 3, 4, 5, 6, 7, 8]"
            ]
          },
          "metadata": {},
          "execution_count": 8
        }
      ]
    },
    {
      "cell_type": "code",
      "source": [
        "# on list we can do insertion and deletion\n",
        "# list are mutable ( changeable) - insertion and deletion are aplicable"
      ],
      "metadata": {
        "id": "oIyg48Gk-jxx"
      },
      "execution_count": null,
      "outputs": []
    },
    {
      "cell_type": "code",
      "source": [
        "t= (1,2,3,4,5,6,7)\n"
      ],
      "metadata": {
        "id": "F2KLcklX-xR8"
      },
      "execution_count": null,
      "outputs": []
    },
    {
      "cell_type": "code",
      "source": [
        "t.pop(1)"
      ],
      "metadata": {
        "colab": {
          "base_uri": "https://localhost:8080/",
          "height": 141
        },
        "id": "fGsjEe8V-5qZ",
        "outputId": "46239558-6bc2-4819-ae57-74cb4d5a19b6"
      },
      "execution_count": null,
      "outputs": [
        {
          "output_type": "error",
          "ename": "AttributeError",
          "evalue": "'tuple' object has no attribute 'pop'",
          "traceback": [
            "\u001b[0;31m---------------------------------------------------------------------------\u001b[0m",
            "\u001b[0;31mAttributeError\u001b[0m                            Traceback (most recent call last)",
            "\u001b[0;32m<ipython-input-11-22bcb56310bc>\u001b[0m in \u001b[0;36m<cell line: 1>\u001b[0;34m()\u001b[0m\n\u001b[0;32m----> 1\u001b[0;31m \u001b[0mt\u001b[0m\u001b[0;34m.\u001b[0m\u001b[0mpop\u001b[0m\u001b[0;34m(\u001b[0m\u001b[0;36m1\u001b[0m\u001b[0;34m)\u001b[0m\u001b[0;34m\u001b[0m\u001b[0;34m\u001b[0m\u001b[0m\n\u001b[0m",
            "\u001b[0;31mAttributeError\u001b[0m: 'tuple' object has no attribute 'pop'"
          ]
        }
      ]
    },
    {
      "cell_type": "code",
      "source": [
        "# in a tuple no record can be inserted once its defined\n",
        "# tuple is immutable ( not changeable )"
      ],
      "metadata": {
        "id": "dG_8I3Bw_AVv"
      },
      "execution_count": null,
      "outputs": []
    },
    {
      "cell_type": "code",
      "source": [
        "d =  {\"a\":10,\"b\":15,\"c\":12}\n",
        "\n"
      ],
      "metadata": {
        "id": "6oVJkhRO_Qt-"
      },
      "execution_count": null,
      "outputs": []
    },
    {
      "cell_type": "code",
      "source": [
        "d[\"a\"]"
      ],
      "metadata": {
        "colab": {
          "base_uri": "https://localhost:8080/"
        },
        "id": "F6GGu5Ww_WeI",
        "outputId": "a54dd17e-39e2-4154-f3e0-4c308ac547e0"
      },
      "execution_count": null,
      "outputs": [
        {
          "output_type": "execute_result",
          "data": {
            "text/plain": [
              "10"
            ]
          },
          "metadata": {},
          "execution_count": 14
        }
      ]
    },
    {
      "cell_type": "code",
      "source": [
        "# Set\n",
        "# it is collection of unique elements"
      ],
      "metadata": {
        "id": "OCJBLNvh_XpC"
      },
      "execution_count": null,
      "outputs": []
    },
    {
      "cell_type": "code",
      "source": [
        "l= [1,2,3,4,5,6,7,1,1,1,1,1,1,1,2,2,2,2,2,2]"
      ],
      "metadata": {
        "id": "2RE7zsRr_mjJ"
      },
      "execution_count": null,
      "outputs": []
    },
    {
      "cell_type": "code",
      "source": [
        "print(l)"
      ],
      "metadata": {
        "colab": {
          "base_uri": "https://localhost:8080/"
        },
        "id": "zVITiu54_wCv",
        "outputId": "d15cdaaa-5f8d-4a55-b382-7b7afb465fc7"
      },
      "execution_count": null,
      "outputs": [
        {
          "output_type": "stream",
          "name": "stdout",
          "text": [
            "[1, 2, 3, 4, 5, 6, 7, 1, 1, 1, 1, 1, 1, 1, 2, 2, 2, 2, 2, 2]\n"
          ]
        }
      ]
    },
    {
      "cell_type": "code",
      "source": [
        "s = {1, 2, 3, 4, 5, 6, 7, 1, 1, 1, 1, 1, 1, 1, 2, 2, 2, 2, 2, 2}\n",
        "\n",
        "print(s)"
      ],
      "metadata": {
        "colab": {
          "base_uri": "https://localhost:8080/"
        },
        "id": "BX_kqEqT_xCs",
        "outputId": "82d11a66-f75b-4fcc-a35c-7607f3451b51"
      },
      "execution_count": null,
      "outputs": [
        {
          "output_type": "stream",
          "name": "stdout",
          "text": [
            "{1, 2, 3, 4, 5, 6, 7}\n"
          ]
        }
      ]
    },
    {
      "cell_type": "code",
      "source": [
        "# take  a input from user and you have to show which character is present in that input with their count\n",
        "\n",
        "Input : Raja Rahim\n",
        "\n",
        "output : a:3 , j:1, h:1, i:1 , R:2, m: 1\n",
        "Hint : use dictionary"
      ],
      "metadata": {
        "id": "twIOQaJx_8U8"
      },
      "execution_count": null,
      "outputs": []
    },
    {
      "cell_type": "code",
      "source": [],
      "metadata": {
        "id": "8r5-dIdMG7gv"
      },
      "execution_count": null,
      "outputs": []
    },
    {
      "cell_type": "code",
      "source": [
        "name = input()\n",
        "name = list(name)\n",
        "d={}\n",
        "\n",
        "for i in name:\n",
        "  print(i, name.count(i))\n",
        "  d[i] = name.count(i)\n",
        "d"
      ],
      "metadata": {
        "colab": {
          "base_uri": "https://localhost:8080/"
        },
        "id": "pHRsKfUHCAv2",
        "outputId": "7f449b4f-61a5-4363-d1db-2ac626eef05c"
      },
      "execution_count": 1,
      "outputs": [
        {
          "output_type": "stream",
          "name": "stdout",
          "text": [
            "lokesh\n",
            "l 1\n",
            "o 1\n",
            "k 1\n",
            "e 1\n",
            "s 1\n",
            "h 1\n"
          ]
        },
        {
          "output_type": "execute_result",
          "data": {
            "text/plain": [
              "{'l': 1, 'o': 1, 'k': 1, 'e': 1, 's': 1, 'h': 1}"
            ]
          },
          "metadata": {},
          "execution_count": 1
        }
      ]
    },
    {
      "cell_type": "code",
      "source": [
        "n =\"lokesh kumar\"\n",
        "n.count(\"z\")"
      ],
      "metadata": {
        "colab": {
          "base_uri": "https://localhost:8080/"
        },
        "id": "XwMYwKQvCQT1",
        "outputId": "1ec5d33e-58a0-4288-9fdd-937770d91266"
      },
      "execution_count": null,
      "outputs": [
        {
          "output_type": "execute_result",
          "data": {
            "text/plain": [
              "0"
            ]
          },
          "metadata": {},
          "execution_count": 38
        }
      ]
    },
    {
      "cell_type": "code",
      "source": [
        "n"
      ],
      "metadata": {
        "colab": {
          "base_uri": "https://localhost:8080/",
          "height": 36
        },
        "id": "cYCGLAoxCYN0",
        "outputId": "08f99a50-f94d-4dc7-f568-be9bf7087219"
      },
      "execution_count": null,
      "outputs": [
        {
          "output_type": "execute_result",
          "data": {
            "text/plain": [
              "'lokesh kumar'"
            ],
            "application/vnd.google.colaboratory.intrinsic+json": {
              "type": "string"
            }
          },
          "metadata": {},
          "execution_count": 39
        }
      ]
    },
    {
      "cell_type": "code",
      "source": [
        "list(n)"
      ],
      "metadata": {
        "colab": {
          "base_uri": "https://localhost:8080/"
        },
        "id": "swRs2l6CCt4x",
        "outputId": "5ab1fd01-f8fb-4e43-cfec-d21df9792e39"
      },
      "execution_count": null,
      "outputs": [
        {
          "output_type": "execute_result",
          "data": {
            "text/plain": [
              "['l', 'o', 'k', 'e', 's', 'h', ' ', 'k', 'u', 'm', 'a', 'r']"
            ]
          },
          "metadata": {},
          "execution_count": 40
        }
      ]
    },
    {
      "cell_type": "code",
      "source": [
        "# problem on set\n",
        "\n",
        "# there is a person who got multiple fruits in his basket ,\n",
        "# now that person got confused about the fruits he have , you will assisting him to tell the different kind of fruits he have\n",
        "\n",
        "p = [\"apple\", \"banana\",\"guava\",\"apple\", \"pipeapple\",\"watermelon\", \"banana\",\"apple\",\"apple\", \"banana\",\"guava\",\"apple\", \"pipeapple\",\"watermelon\", \"banana\",\"apple\",\"apple\", \"banana\",\"guava\",\"apple\", \"pipeapple\",\"watermelon\", \"banana\",\"apple\",\"apple\", \"banana\",\"guava\",\"apple\", \"pipeapple\",\"watermelon\", \"banana\",\"apple\",\"apple\", \"banana\",\"guava\",\"apple\", \"pipeapple\",\"watermelon\", \"banana\",\"apple\",\"apple\", \"banana\",\"guava\",\"apple\", \"pipeapple\",\"watermelon\", \"banana\",\"apple\"]\n",
        "\n",
        "# output = [\"apple\", \"banana\", \"guava\",\"pineapple\", \"watermelon\"]"
      ],
      "metadata": {
        "id": "SM27HTSODJsY"
      },
      "execution_count": null,
      "outputs": []
    },
    {
      "cell_type": "code",
      "source": [
        "p"
      ],
      "metadata": {
        "colab": {
          "base_uri": "https://localhost:8080/"
        },
        "id": "42f7p10XJQZm",
        "outputId": "1fcd2988-a28c-4163-c70b-0fb043a9be81"
      },
      "execution_count": null,
      "outputs": [
        {
          "output_type": "execute_result",
          "data": {
            "text/plain": [
              "['apple',\n",
              " 'banana',\n",
              " 'guava',\n",
              " 'apple',\n",
              " 'pipeapple',\n",
              " 'watermelon',\n",
              " 'banana',\n",
              " 'apple',\n",
              " 'apple',\n",
              " 'banana',\n",
              " 'guava',\n",
              " 'apple',\n",
              " 'pipeapple',\n",
              " 'watermelon',\n",
              " 'banana',\n",
              " 'apple',\n",
              " 'apple',\n",
              " 'banana',\n",
              " 'guava',\n",
              " 'apple',\n",
              " 'pipeapple',\n",
              " 'watermelon',\n",
              " 'banana',\n",
              " 'apple',\n",
              " 'apple',\n",
              " 'banana',\n",
              " 'guava',\n",
              " 'apple',\n",
              " 'pipeapple',\n",
              " 'watermelon',\n",
              " 'banana',\n",
              " 'apple',\n",
              " 'apple',\n",
              " 'banana',\n",
              " 'guava',\n",
              " 'apple',\n",
              " 'pipeapple',\n",
              " 'watermelon',\n",
              " 'banana',\n",
              " 'apple',\n",
              " 'apple',\n",
              " 'banana',\n",
              " 'guava',\n",
              " 'apple',\n",
              " 'pipeapple',\n",
              " 'watermelon',\n",
              " 'banana',\n",
              " 'apple']"
            ]
          },
          "metadata": {},
          "execution_count": 48
        }
      ]
    },
    {
      "cell_type": "code",
      "source": [
        "s = set(p)\n",
        "\n",
        "print(s)"
      ],
      "metadata": {
        "colab": {
          "base_uri": "https://localhost:8080/"
        },
        "id": "fZ1vv385JRaI",
        "outputId": "f469a266-26a8-49a6-abbc-3568cd06ef0a"
      },
      "execution_count": null,
      "outputs": [
        {
          "output_type": "stream",
          "name": "stdout",
          "text": [
            "{'pipeapple', 'guava', 'apple', 'banana', 'watermelon'}\n"
          ]
        }
      ]
    },
    {
      "cell_type": "code",
      "source": [
        "l = [1,2,3,4,5,6,8,9,0,111,1,1,1,1,1,1,1,1,1,1,1,1,1]\n",
        "s= set(l)\n",
        "print(s)"
      ],
      "metadata": {
        "colab": {
          "base_uri": "https://localhost:8080/"
        },
        "id": "odeUmhyVJeZM",
        "outputId": "8a3db489-3d63-4484-dbe8-8e1f60ab66de"
      },
      "execution_count": null,
      "outputs": [
        {
          "output_type": "stream",
          "name": "stdout",
          "text": [
            "{0, 1, 2, 3, 4, 5, 6, 8, 9, 111}\n"
          ]
        }
      ]
    },
    {
      "cell_type": "code",
      "source": [
        "s"
      ],
      "metadata": {
        "colab": {
          "base_uri": "https://localhost:8080/"
        },
        "id": "bmMVFf2RJ8Vb",
        "outputId": "a15eee7d-2c0b-4dac-f386-c5ae357f0c50"
      },
      "execution_count": null,
      "outputs": [
        {
          "output_type": "execute_result",
          "data": {
            "text/plain": [
              "{0, 1, 2, 3, 4, 5, 6, 8, 9, 111}"
            ]
          },
          "metadata": {},
          "execution_count": 53
        }
      ]
    },
    {
      "cell_type": "code",
      "source": [
        "x=3\n",
        "\n",
        "if x :\n",
        "  print(\"true\")"
      ],
      "metadata": {
        "colab": {
          "base_uri": "https://localhost:8080/"
        },
        "id": "eTZNkk5YKWQS",
        "outputId": "1901fd49-85e1-4e20-ac56-86ca0648e202"
      },
      "execution_count": null,
      "outputs": [
        {
          "output_type": "stream",
          "name": "stdout",
          "text": [
            "true\n"
          ]
        }
      ]
    },
    {
      "cell_type": "code",
      "source": [
        "print(chr(70))\n",
        "# to get equivalent ascii character"
      ],
      "metadata": {
        "colab": {
          "base_uri": "https://localhost:8080/"
        },
        "id": "7odfkxw6OSxL",
        "outputId": "b29c759c-c1ae-46f7-c4aa-5db184574ba2"
      },
      "execution_count": null,
      "outputs": [
        {
          "output_type": "stream",
          "name": "stdout",
          "text": [
            "F\n"
          ]
        }
      ]
    },
    {
      "cell_type": "code",
      "source": [
        "print(ord(\"F\"))\n",
        "# to get equivalent ascii value\n"
      ],
      "metadata": {
        "colab": {
          "base_uri": "https://localhost:8080/"
        },
        "id": "bV1TNROEO0Ci",
        "outputId": "a6802c63-c295-4932-ad02-5ff4e2972381"
      },
      "execution_count": null,
      "outputs": [
        {
          "output_type": "stream",
          "name": "stdout",
          "text": [
            "70\n"
          ]
        }
      ]
    },
    {
      "cell_type": "code",
      "source": [
        "# range\n",
        "\n",
        "name =\"lokesh\"\n",
        "\n",
        "for i in name :\n",
        "  print(i)\n"
      ],
      "metadata": {
        "colab": {
          "base_uri": "https://localhost:8080/"
        },
        "id": "kSyZ6CYmPEsD",
        "outputId": "ce08a4c1-95f7-482b-bc19-ccefaf10fff0"
      },
      "execution_count": null,
      "outputs": [
        {
          "output_type": "stream",
          "name": "stdout",
          "text": [
            "l\n",
            "o\n",
            "k\n",
            "e\n",
            "s\n",
            "h\n"
          ]
        }
      ]
    },
    {
      "cell_type": "code",
      "source": [
        "for i in range(0,10,1):\n",
        "  print(i)"
      ],
      "metadata": {
        "colab": {
          "base_uri": "https://localhost:8080/"
        },
        "id": "nLo9kMwCPSBo",
        "outputId": "5ff6e25d-b644-4665-ef26-fd7e89dd1fad"
      },
      "execution_count": null,
      "outputs": [
        {
          "output_type": "stream",
          "name": "stdout",
          "text": [
            "0\n",
            "1\n",
            "2\n",
            "3\n",
            "4\n",
            "5\n",
            "6\n",
            "7\n",
            "8\n",
            "9\n"
          ]
        }
      ]
    },
    {
      "cell_type": "code",
      "source": [
        "for i in range(10):\n",
        "  print(i)"
      ],
      "metadata": {
        "colab": {
          "base_uri": "https://localhost:8080/"
        },
        "id": "ahkV1DCnPYGb",
        "outputId": "02052cf8-5494-4f32-a138-e6072c7d1859"
      },
      "execution_count": null,
      "outputs": [
        {
          "output_type": "stream",
          "name": "stdout",
          "text": [
            "0\n",
            "1\n",
            "2\n",
            "3\n",
            "4\n",
            "5\n",
            "6\n",
            "7\n",
            "8\n",
            "9\n"
          ]
        }
      ]
    },
    {
      "cell_type": "code",
      "source": [
        "for i in range(4,20, 3):\n",
        "  print(i)"
      ],
      "metadata": {
        "colab": {
          "base_uri": "https://localhost:8080/"
        },
        "id": "tgSagz_1P14e",
        "outputId": "05e22f48-48b1-41b8-b3e4-277e679e1a02"
      },
      "execution_count": null,
      "outputs": [
        {
          "output_type": "stream",
          "name": "stdout",
          "text": [
            "4\n",
            "7\n",
            "10\n",
            "13\n",
            "16\n",
            "19\n"
          ]
        }
      ]
    },
    {
      "cell_type": "code",
      "source": [
        "name = \"Monica\"\n",
        "\n",
        "print(\"Hello\" , name)"
      ],
      "metadata": {
        "colab": {
          "base_uri": "https://localhost:8080/"
        },
        "id": "6t0e4wxRP_T2",
        "outputId": "db207f26-1a26-46f1-847b-bbf61ae4d145"
      },
      "execution_count": null,
      "outputs": [
        {
          "output_type": "stream",
          "name": "stdout",
          "text": [
            "Hello Monica\n"
          ]
        }
      ]
    },
    {
      "cell_type": "code",
      "source": [
        "print(\"Hello {}\".format(name))"
      ],
      "metadata": {
        "colab": {
          "base_uri": "https://localhost:8080/"
        },
        "id": "LvV37VbvRJh6",
        "outputId": "17f7cf3f-b7fd-4f5f-c2ff-1c4973a561ef"
      },
      "execution_count": null,
      "outputs": [
        {
          "output_type": "stream",
          "name": "stdout",
          "text": [
            "Hello Monica\n"
          ]
        }
      ]
    },
    {
      "cell_type": "code",
      "source": [
        "print(f\"Hello {name}\")"
      ],
      "metadata": {
        "colab": {
          "base_uri": "https://localhost:8080/"
        },
        "id": "UmhNgfXARUIy",
        "outputId": "c3c38629-a6f2-4c6a-a82e-697af372d844"
      },
      "execution_count": null,
      "outputs": [
        {
          "output_type": "stream",
          "name": "stdout",
          "text": [
            "Hello Monica\n"
          ]
        }
      ]
    },
    {
      "cell_type": "code",
      "source": [
        "print(\"Hello %s \"%name)"
      ],
      "metadata": {
        "colab": {
          "base_uri": "https://localhost:8080/"
        },
        "id": "sAICyFl-RZY8",
        "outputId": "6e76b654-a585-4113-9620-d591292c2eb9"
      },
      "execution_count": null,
      "outputs": [
        {
          "output_type": "stream",
          "name": "stdout",
          "text": [
            "Hello Monica \n"
          ]
        }
      ]
    },
    {
      "cell_type": "code",
      "source": [
        "print(\"Hello \"+name)"
      ],
      "metadata": {
        "colab": {
          "base_uri": "https://localhost:8080/"
        },
        "id": "Tuta_AwYRfv_",
        "outputId": "03272d18-74b6-413b-88fe-7146eb95bdd0"
      },
      "execution_count": null,
      "outputs": [
        {
          "output_type": "stream",
          "name": "stdout",
          "text": [
            "Hello Monica\n"
          ]
        }
      ]
    },
    {
      "cell_type": "code",
      "source": [
        "list = collection of elements  , it can have repeated values\n",
        "set = collection of elements , it have only unique values"
      ],
      "metadata": {
        "id": "O_o39HZURzOk"
      },
      "execution_count": null,
      "outputs": []
    },
    {
      "cell_type": "code",
      "source": [
        "k=[1,1,1,1,2,3,3,4,2,1,1,3,3,1]\n",
        "\n",
        "k"
      ],
      "metadata": {
        "colab": {
          "base_uri": "https://localhost:8080/"
        },
        "id": "yKfuWdPkShpP",
        "outputId": "942dcd9e-d6b3-4e49-e244-f26580782a0e"
      },
      "execution_count": null,
      "outputs": [
        {
          "output_type": "execute_result",
          "data": {
            "text/plain": [
              "[1, 1, 1, 1, 2, 3, 3, 4, 2, 1, 1, 3, 3, 1]"
            ]
          },
          "metadata": {},
          "execution_count": 79
        }
      ]
    },
    {
      "cell_type": "code",
      "source": [
        "s = {1,1,1,1,2,3,3,42,2,2,2,2,2,1,1}\n",
        "\n",
        "s"
      ],
      "metadata": {
        "colab": {
          "base_uri": "https://localhost:8080/"
        },
        "id": "uP5PvqY9Sl7P",
        "outputId": "bb952847-c050-4b34-9b5e-ba1981575ae8"
      },
      "execution_count": null,
      "outputs": [
        {
          "output_type": "execute_result",
          "data": {
            "text/plain": [
              "{1, 2, 3, 42}"
            ]
          },
          "metadata": {},
          "execution_count": 80
        }
      ]
    },
    {
      "cell_type": "code",
      "source": [
        "Write a code to get 2 integers A and N. Print the integer A, N times in separate line.\n",
        "\n",
        "Input Description:\n",
        "First line contains an integer A. Second line contains an Integer N.\n",
        "\n",
        "Output Description:\n",
        "Print the integer A, N times in a separate line.\n",
        "\n",
        "Sample Input :\n",
        "2 3\n",
        "Sample Output :\n",
        "2\n",
        "2\n",
        "2\n",
        "\n",
        "\n"
      ],
      "metadata": {
        "id": "10Nv8tU5Sqr9"
      },
      "execution_count": null,
      "outputs": []
    },
    {
      "cell_type": "code",
      "source": [
        "data = list(map(int, input().split()))\n",
        "# data =[2,3 ]\n",
        "for i in range(data[1]):\n",
        "  print(data[0])"
      ],
      "metadata": {
        "colab": {
          "base_uri": "https://localhost:8080/"
        },
        "id": "wotaRK6MTdap",
        "outputId": "e9d258e6-8082-4897-b73e-26b96f5a4f22"
      },
      "execution_count": null,
      "outputs": [
        {
          "output_type": "stream",
          "name": "stdout",
          "text": [
            "2 3\n",
            "2\n",
            "2\n",
            "2\n"
          ]
        }
      ]
    },
    {
      "cell_type": "code",
      "source": [
        "a,n =map(int,input().split())\n",
        "\n",
        "for i in range(n):\n",
        "  print(a)"
      ],
      "metadata": {
        "colab": {
          "base_uri": "https://localhost:8080/"
        },
        "id": "BeW9mF3lVpLI",
        "outputId": "cefb14c0-6416-41cd-f3ab-7a8482a0cb62"
      },
      "execution_count": null,
      "outputs": [
        {
          "output_type": "stream",
          "name": "stdout",
          "text": [
            "2 3\n",
            "2\n",
            "2\n",
            "2\n"
          ]
        }
      ]
    },
    {
      "cell_type": "code",
      "source": [],
      "metadata": {
        "id": "7mfI1I1JV0OB"
      },
      "execution_count": null,
      "outputs": []
    }
  ]
}